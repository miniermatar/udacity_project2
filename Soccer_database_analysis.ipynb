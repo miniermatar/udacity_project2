{
 "cells": [
  {
   "cell_type": "markdown",
   "metadata": {},
   "source": [
    "# <font color='darkblue'> Project: European Soccer Database - Predictions and Betting Odds</font> "
   ]
  },
  {
   "cell_type": "markdown",
   "metadata": {
    "toc": true
   },
   "source": [
    "<h1>Table of Contents<span class=\"tocSkip\"></span></h1>\n",
    "<div class=\"toc\"><ul class=\"toc-item\"><li><span><a href=\"#-Project:-European-Soccer-Database---Predictions-and-Betting-Odds\" data-toc-modified-id=\"-Project:-European-Soccer-Database---Predictions-and-Betting-Odds-1\"><font color=\"darkblue\"> Project: European Soccer Database - Predictions and Betting Odds</font></a></span><ul class=\"toc-item\"><li><span><a href=\"#Introduction-to-the-Dataset\" data-toc-modified-id=\"Introduction-to-the-Dataset-1.1\">Introduction to the Dataset</a></span></li><li><span><a href=\"#European-Soccer-Dataset---SQL-Exploration\" data-toc-modified-id=\"European-Soccer-Dataset---SQL-Exploration-1.2\">European Soccer Dataset - SQL Exploration</a></span></li><li><span><a href=\"#Research-questions\" data-toc-modified-id=\"Research-questions-1.3\">Research questions</a></span></li><li><span><a href=\"#Data-Wrangling\" data-toc-modified-id=\"Data-Wrangling-1.4\">Data Wrangling</a></span><ul class=\"toc-item\"><li><span><a href=\"#General-Properties\" data-toc-modified-id=\"General-Properties-1.4.1\">General Properties</a></span></li><li><span><a href=\"#Data-Cleaning-and-Adjustments\" data-toc-modified-id=\"Data-Cleaning-and-Adjustments-1.4.2\">Data Cleaning and Adjustments</a></span></li></ul></li><li><span><a href=\"#Exploratory-Data-Analysis\" data-toc-modified-id=\"Exploratory-Data-Analysis-1.5\">Exploratory Data Analysis</a></span><ul class=\"toc-item\"><li><span><a href=\"#Research-Question-1:--What-are-the-probability-of-winning-based-on-the-team-location:-Home-vs-Away?\" data-toc-modified-id=\"Research-Question-1:--What-are-the-probability-of-winning-based-on-the-team-location:-Home-vs-Away?-1.5.1\">Research Question 1:  What are the probability of winning based on the team location: Home vs Away?</a></span></li><li><span><a href=\"#Research-Question-2:-Are-those-probabilities-similar-across-all-the-leagues?\" data-toc-modified-id=\"Research-Question-2:-Are-those-probabilities-similar-across-all-the-leagues?-1.5.2\">Research Question 2: Are those probabilities similar across all the leagues?</a></span></li><li><span><a href=\"#Research-Question-3:-How-accurate-are-the-betting-odds-from-Bet365?\" data-toc-modified-id=\"Research-Question-3:-How-accurate-are-the-betting-odds-from-Bet365?-1.5.3\">Research Question 3: How accurate are the betting odds from Bet365?</a></span></li><li><span><a href=\"#Research-Question-4:-Which-team-has-the-highest-winning-ratio-within-each-league-for-the-2015/2016-season?\" data-toc-modified-id=\"Research-Question-4:-Which-team-has-the-highest-winning-ratio-within-each-league-for-the-2015/2016-season?-1.5.4\">Research Question 4: Which team has the highest winning ratio within each league for the 2015/2016 season?</a></span></li></ul></li><li><span><a href=\"#Conclusions\" data-toc-modified-id=\"Conclusions-1.6\">Conclusions</a></span></li></ul></li></ul></div>"
   ]
  },
  {
   "cell_type": "markdown",
   "metadata": {},
   "source": [
    "<a id='intro'></a> \n",
    "## Introduction to the Dataset\n",
    "\n",
    "This project focuses on analyzing the <a href=\"https://www.kaggle.com/hugomathien/soccer\">European Soccer Database</a> provided by Kaggle. The database has extensive information about more than 25,000 soccer matches in Europe from 2008 to 2016. I have extracted selected information using <a href=\"https://sqlitebrowser.org\"> DB Browser for SQLite</a> and stored it in a CSV file to be used within this notebook (I also included a short script to run the SQL query from this notebook). The section below briefly covers the SQL exploratory analysis carried out to decide which data will be used in this investigation.\n",
    "\n",
    "The objective of this project is to develop some understanding on the probabilities for a team to win and to compare the observations with the betting odds from Bet365 (B365)."
   ]
  },
  {
   "cell_type": "markdown",
   "metadata": {},
   "source": [
    "<a id='SQL'></a>\n",
    "## European Soccer Dataset - SQL Exploration\n",
    "The database provided by Kaggle has  interesting information about soccer matches in Europe. The first step on this investigation was to explore the SQL database and get familiar with the fields and the compiled data. Based on that exploration, I chose to create a SQL query that will pull the league, season, teams name (home and away), as well as the betting odds for <a href=\"https://www.bet365.com\">Bet365</a> (one of the largest online gambling company in the United Kingdom).\n",
    "\n",
    "In the SQL query, I created 2 subqueries to pull the names for the home and away teams (since the main table only have the teams ID) and added some key parameters for this investigation. Below is the description for each column used in this analysis:\n",
    "<br>\n",
    "<br>\n",
    "\n",
    "<li> <b>date_match:</b> Date of the match. Format: YYYY-MM-DD</li>\n",
    "<li> <b>season:</b> Tournament season</li>\n",
    "<li> <b>League:</b> League for the teams on the selected match\n",
    "<li> <b>home_team:</b> Team playing at home</li>\n",
    "<li> <b>away_team:</b> Visiting team</li>\n",
    "<li> <b>home_goal:</b> Goals scored by the home team</li>\n",
    "<li> <b>away_goal:</b> Goals scored by the visiting team</li>\n",
    "<li> <b>B365H:</b> Bet365 betting odds for the home team</li>\n",
    "<li> <b>B365A:</b> Bet365 betting odds for the visiting team</li>\n",
    "<li> <b>B365D:</b> Bet365 betting odds for draw match</li>"
   ]
  },
  {
   "cell_type": "raw",
   "metadata": {},
   "source": [
    "/*SQL query used in DB Browser for SQLite*/\n",
    "\n",
    "WITH h_team AS (SELECT t.team_long_name as home_team, m.id id_t\n",
    "\tFROM team t\n",
    "\tJOIN match m\n",
    "\tON m.home_team_api_id=t.team_api_id),\n",
    "\ta_team AS (SELECT t.team_long_name as away_team, m.id id_t\n",
    "\tFROM team t\n",
    "\tJOIN match m\n",
    "\tON m.away_team_api_id=t.team_api_id)\n",
    "SELECT m.date date_match, m.season, l.name league, ht.home_team, a_t.away_Team, m.home_team_goal home_goal, m.away_team_goal away_goal, m.B365H, m.B365A, m.B365D\n",
    "FROM League as l\n",
    "JOIN match m\n",
    "ON l.id = m.league_id\n",
    "JOIN h_team ht\n",
    "ON ht.id_t=m.id\n",
    "JOIN a_team a_t\n",
    "ON a_t.id_t=m.id\n",
    "ORDER BY date_match"
   ]
  },
  {
   "cell_type": "markdown",
   "metadata": {},
   "source": [
    "**SQL for Python:** I have also included the database together with this notebook and below is the python code in case the reader want to modify the query in the future for additional analysis. The code below was adapted from <a href=https://www.dataquest.io/blog/python-pandas-databases/>dataquest.io</a>.\n",
    "\n",
    ">The output of the SQL query is already stored in the \"EU_selected_data.csv\" file, so there is no need to run the cell below if the user does not have sqlite3 module installed."
   ]
  },
  {
   "cell_type": "code",
   "execution_count": 1,
   "metadata": {},
   "outputs": [],
   "source": [
    "import pandas as pd\n",
    "import sqlite3\n",
    "\n",
    "con = sqlite3.connect('EU_soccer_db.sqlite')\n",
    "eu_data=pd.read_sql_query(\n",
    "('WITH h_team AS (SELECT t.team_long_name as home_team, m.id id_t'\n",
    "' FROM team t'\n",
    "' JOIN match m'\n",
    "' ON m.home_team_api_id=t.team_api_id),'\n",
    "' a_team AS (SELECT t.team_long_name as away_team, m.id id_t'\n",
    "' FROM team t'\n",
    "' JOIN match m'\n",
    "' ON m.away_team_api_id=t.team_api_id)'\n",
    "' SELECT m.date date_match, m.season, l.name league, ht.home_team,'\n",
    "' a_t.away_Team, m.home_team_goal home_goal, m.away_team_goal away_goal,'\n",
    "' m.B365H, m.B365A, m.B365D'\n",
    "' FROM League as l'\n",
    "' JOIN match m'\n",
    "' ON l.id = m.league_id'\n",
    "' JOIN h_team ht'\n",
    "' ON ht.id_t=m.id'\n",
    "' JOIN a_team a_t'\n",
    "' ON a_t.id_t=m.id'\n",
    "' ORDER BY date_match'),con)\n",
    "con.close()\n",
    "eu_data.to_csv('EU_selected_data.csv',index=False) #Saving query output to csv and removing the index column\n"
   ]
  },
  {
   "cell_type": "markdown",
   "metadata": {
    "collapsed": true
   },
   "source": [
    "## Research questions\n",
    "Below are the questions that will be answer during this analysis:\n",
    "\n",
    "1. What are the probability of winning based on the team location: Home vs Away?\n",
    "2. Are those probabilities similar across all the leagues?\n",
    "3. How accurate are the betting odds from Bet365?\n",
    "4. Which team has the highest winning ratio within each league for the 2015/2016 season?"
   ]
  },
  {
   "cell_type": "markdown",
   "metadata": {},
   "source": [
    "<a id='wrangling'></a>\n",
    "## Data Wrangling\n",
    "\n",
    "\n",
    "### General Properties\n",
    "\n",
    "Importing the needed modules: Pandas, Numpy, Matplotlib and Seaborn. Also loading the selected data from the CSV file."
   ]
  },
  {
   "cell_type": "code",
   "execution_count": 2,
   "metadata": {},
   "outputs": [
    {
     "data": {
      "text/html": [
       "<div>\n",
       "<style scoped>\n",
       "    .dataframe tbody tr th:only-of-type {\n",
       "        vertical-align: middle;\n",
       "    }\n",
       "\n",
       "    .dataframe tbody tr th {\n",
       "        vertical-align: top;\n",
       "    }\n",
       "\n",
       "    .dataframe thead th {\n",
       "        text-align: right;\n",
       "    }\n",
       "</style>\n",
       "<table border=\"1\" class=\"dataframe\">\n",
       "  <thead>\n",
       "    <tr style=\"text-align: right;\">\n",
       "      <th></th>\n",
       "      <th>date_match</th>\n",
       "      <th>season</th>\n",
       "      <th>league</th>\n",
       "      <th>home_team</th>\n",
       "      <th>away_team</th>\n",
       "      <th>home_goal</th>\n",
       "      <th>away_goal</th>\n",
       "      <th>B365H</th>\n",
       "      <th>B365A</th>\n",
       "      <th>B365D</th>\n",
       "    </tr>\n",
       "  </thead>\n",
       "  <tbody>\n",
       "    <tr>\n",
       "      <th>0</th>\n",
       "      <td>2008-07-18 00:00:00</td>\n",
       "      <td>2008/2009</td>\n",
       "      <td>Switzerland Super League</td>\n",
       "      <td>BSC Young Boys</td>\n",
       "      <td>FC Basel</td>\n",
       "      <td>1</td>\n",
       "      <td>2</td>\n",
       "      <td>NaN</td>\n",
       "      <td>NaN</td>\n",
       "      <td>NaN</td>\n",
       "    </tr>\n",
       "    <tr>\n",
       "      <th>1</th>\n",
       "      <td>2008-07-19 00:00:00</td>\n",
       "      <td>2008/2009</td>\n",
       "      <td>Switzerland Super League</td>\n",
       "      <td>FC Aarau</td>\n",
       "      <td>FC Sion</td>\n",
       "      <td>3</td>\n",
       "      <td>1</td>\n",
       "      <td>NaN</td>\n",
       "      <td>NaN</td>\n",
       "      <td>NaN</td>\n",
       "    </tr>\n",
       "    <tr>\n",
       "      <th>2</th>\n",
       "      <td>2008-07-20 00:00:00</td>\n",
       "      <td>2008/2009</td>\n",
       "      <td>Switzerland Super League</td>\n",
       "      <td>FC Luzern</td>\n",
       "      <td>FC Vaduz</td>\n",
       "      <td>1</td>\n",
       "      <td>2</td>\n",
       "      <td>NaN</td>\n",
       "      <td>NaN</td>\n",
       "      <td>NaN</td>\n",
       "    </tr>\n",
       "    <tr>\n",
       "      <th>3</th>\n",
       "      <td>2008-07-20 00:00:00</td>\n",
       "      <td>2008/2009</td>\n",
       "      <td>Switzerland Super League</td>\n",
       "      <td>Neuchâtel Xamax</td>\n",
       "      <td>FC Zürich</td>\n",
       "      <td>1</td>\n",
       "      <td>2</td>\n",
       "      <td>NaN</td>\n",
       "      <td>NaN</td>\n",
       "      <td>NaN</td>\n",
       "    </tr>\n",
       "    <tr>\n",
       "      <th>4</th>\n",
       "      <td>2008-07-23 00:00:00</td>\n",
       "      <td>2008/2009</td>\n",
       "      <td>Switzerland Super League</td>\n",
       "      <td>FC Basel</td>\n",
       "      <td>Grasshopper Club Zürich</td>\n",
       "      <td>1</td>\n",
       "      <td>0</td>\n",
       "      <td>NaN</td>\n",
       "      <td>NaN</td>\n",
       "      <td>NaN</td>\n",
       "    </tr>\n",
       "  </tbody>\n",
       "</table>\n",
       "</div>"
      ],
      "text/plain": [
       "            date_match     season                    league        home_team  \\\n",
       "0  2008-07-18 00:00:00  2008/2009  Switzerland Super League   BSC Young Boys   \n",
       "1  2008-07-19 00:00:00  2008/2009  Switzerland Super League         FC Aarau   \n",
       "2  2008-07-20 00:00:00  2008/2009  Switzerland Super League        FC Luzern   \n",
       "3  2008-07-20 00:00:00  2008/2009  Switzerland Super League  Neuchâtel Xamax   \n",
       "4  2008-07-23 00:00:00  2008/2009  Switzerland Super League         FC Basel   \n",
       "\n",
       "                 away_team  home_goal  away_goal  B365H  B365A  B365D  \n",
       "0                 FC Basel          1          2    NaN    NaN    NaN  \n",
       "1                  FC Sion          3          1    NaN    NaN    NaN  \n",
       "2                 FC Vaduz          1          2    NaN    NaN    NaN  \n",
       "3                FC Zürich          1          2    NaN    NaN    NaN  \n",
       "4  Grasshopper Club Zürich          1          0    NaN    NaN    NaN  "
      ]
     },
     "execution_count": 2,
     "metadata": {},
     "output_type": "execute_result"
    }
   ],
   "source": [
    "import pandas as pd\n",
    "import numpy as np\n",
    "import matplotlib.pyplot as plt\n",
    "import seaborn as sns\n",
    "#% matplotlib inline\n",
    "\n",
    "df=pd.read_csv('EU_selected_data.csv')\n",
    "df.head()\n"
   ]
  },
  {
   "cell_type": "markdown",
   "metadata": {},
   "source": [
    "Updating data types and checking other properties as follow:\n",
    "<br>\n",
    "<br>\n",
    "<li> Data types will be adjusted as needed</li>\n",
    "<li> The dataset will be checked for duplicate and delete them if any</li>\n",
    "<li> The data will be checked for null values</li>\n"
   ]
  },
  {
   "cell_type": "code",
   "execution_count": 3,
   "metadata": {
    "scrolled": false
   },
   "outputs": [
    {
     "name": "stdout",
     "output_type": "stream",
     "text": [
      "<class 'pandas.core.frame.DataFrame'>\n",
      "RangeIndex: 25979 entries, 0 to 25978\n",
      "Data columns (total 10 columns):\n",
      " #   Column      Non-Null Count  Dtype  \n",
      "---  ------      --------------  -----  \n",
      " 0   date_match  25979 non-null  object \n",
      " 1   season      25979 non-null  object \n",
      " 2   league      25979 non-null  object \n",
      " 3   home_team   25979 non-null  object \n",
      " 4   away_team   25979 non-null  object \n",
      " 5   home_goal   25979 non-null  int64  \n",
      " 6   away_goal   25979 non-null  int64  \n",
      " 7   B365H       22592 non-null  float64\n",
      " 8   B365A       22592 non-null  float64\n",
      " 9   B365D       22592 non-null  float64\n",
      "dtypes: float64(3), int64(2), object(5)\n",
      "memory usage: 2.0+ MB\n"
     ]
    }
   ],
   "source": [
    "df.info()\n"
   ]
  },
  {
   "cell_type": "markdown",
   "metadata": {},
   "source": [
    "The date_match should be converted from string to datetime.<br>\n",
    "It seems that there are some null values in the Bet365 betting columns that should be removed before analyzing the betting odds\n"
   ]
  },
  {
   "cell_type": "code",
   "execution_count": 4,
   "metadata": {
    "scrolled": false
   },
   "outputs": [
    {
     "data": {
      "text/plain": [
       "date_match    1694\n",
       "season           8\n",
       "league          11\n",
       "home_team      296\n",
       "away_team      296\n",
       "home_goal       11\n",
       "away_goal       10\n",
       "B365H          121\n",
       "B365A          115\n",
       "B365D           72\n",
       "dtype: int64"
      ]
     },
     "execution_count": 4,
     "metadata": {},
     "output_type": "execute_result"
    }
   ],
   "source": [
    "df.nunique()"
   ]
  },
  {
   "cell_type": "markdown",
   "metadata": {},
   "source": [
    "By checking the unique values in the file, we can conclude that there are 8 seasons and 11 league in the database. Also, there seems to be 296 teams. The fact that the count for the home team and away team are the same is an indication of the consistency of the database."
   ]
  },
  {
   "cell_type": "code",
   "execution_count": 5,
   "metadata": {
    "scrolled": true
   },
   "outputs": [
    {
     "data": {
      "text/plain": [
       "0"
      ]
     },
     "execution_count": 5,
     "metadata": {},
     "output_type": "execute_result"
    }
   ],
   "source": [
    "df.duplicated().sum()"
   ]
  },
  {
   "cell_type": "markdown",
   "metadata": {},
   "source": [
    "No duplicates found! :)"
   ]
  },
  {
   "cell_type": "code",
   "execution_count": 6,
   "metadata": {
    "scrolled": true
   },
   "outputs": [
    {
     "data": {
      "text/plain": [
       "date_match       0\n",
       "season           0\n",
       "league           0\n",
       "home_team        0\n",
       "away_team        0\n",
       "home_goal        0\n",
       "away_goal        0\n",
       "B365H         3387\n",
       "B365A         3387\n",
       "B365D         3387\n",
       "dtype: int64"
      ]
     },
     "execution_count": 6,
     "metadata": {},
     "output_type": "execute_result"
    }
   ],
   "source": [
    "df.isnull().sum()"
   ]
  },
  {
   "cell_type": "markdown",
   "metadata": {},
   "source": [
    "There are 3387 null values in the betting columns. Those values will be removed and the clean database will be saved as df_bet to be analyzed later."
   ]
  },
  {
   "cell_type": "markdown",
   "metadata": {},
   "source": [
    "### Data Cleaning and Adjustments"
   ]
  },
  {
   "cell_type": "markdown",
   "metadata": {},
   "source": [
    "A new column will be added to determine the outcome of each match based on the home_goal and away_goals as shown below:\n",
    "\n",
    "><li> home_goal > away_goal = Home</li>\n",
    "><li> home_goal < away_goal = Away</li>\n",
    "><li> home_goal = away_goal = Draw</li>\n",
    "\n",
    "\n"
   ]
  },
  {
   "cell_type": "code",
   "execution_count": 7,
   "metadata": {},
   "outputs": [],
   "source": [
    "conditions = [(df['home_goal'] > df['away_goal']), df['home_goal'] == df['away_goal']]\n",
    "choices = ['Home', 'Draw']\n",
    "df['winner'] = np.select(conditions, choices, default='Away') #a new column will be added based on the conditions explained above"
   ]
  },
  {
   "cell_type": "code",
   "execution_count": 8,
   "metadata": {},
   "outputs": [
    {
     "data": {
      "text/html": [
       "<div>\n",
       "<style scoped>\n",
       "    .dataframe tbody tr th:only-of-type {\n",
       "        vertical-align: middle;\n",
       "    }\n",
       "\n",
       "    .dataframe tbody tr th {\n",
       "        vertical-align: top;\n",
       "    }\n",
       "\n",
       "    .dataframe thead th {\n",
       "        text-align: right;\n",
       "    }\n",
       "</style>\n",
       "<table border=\"1\" class=\"dataframe\">\n",
       "  <thead>\n",
       "    <tr style=\"text-align: right;\">\n",
       "      <th></th>\n",
       "      <th>date_match</th>\n",
       "      <th>season</th>\n",
       "      <th>league</th>\n",
       "      <th>home_team</th>\n",
       "      <th>away_team</th>\n",
       "      <th>home_goal</th>\n",
       "      <th>away_goal</th>\n",
       "      <th>B365H</th>\n",
       "      <th>B365A</th>\n",
       "      <th>B365D</th>\n",
       "      <th>winner</th>\n",
       "    </tr>\n",
       "  </thead>\n",
       "  <tbody>\n",
       "    <tr>\n",
       "      <th>0</th>\n",
       "      <td>2008-07-18 00:00:00</td>\n",
       "      <td>2008/2009</td>\n",
       "      <td>Switzerland Super League</td>\n",
       "      <td>BSC Young Boys</td>\n",
       "      <td>FC Basel</td>\n",
       "      <td>1</td>\n",
       "      <td>2</td>\n",
       "      <td>NaN</td>\n",
       "      <td>NaN</td>\n",
       "      <td>NaN</td>\n",
       "      <td>Away</td>\n",
       "    </tr>\n",
       "  </tbody>\n",
       "</table>\n",
       "</div>"
      ],
      "text/plain": [
       "            date_match     season                    league       home_team  \\\n",
       "0  2008-07-18 00:00:00  2008/2009  Switzerland Super League  BSC Young Boys   \n",
       "\n",
       "  away_team  home_goal  away_goal  B365H  B365A  B365D winner  \n",
       "0  FC Basel          1          2    NaN    NaN    NaN   Away  "
      ]
     },
     "execution_count": 8,
     "metadata": {},
     "output_type": "execute_result"
    }
   ],
   "source": [
    "df.head(1)"
   ]
  },
  {
   "cell_type": "code",
   "execution_count": 9,
   "metadata": {
    "scrolled": false
   },
   "outputs": [
    {
     "name": "stdout",
     "output_type": "stream",
     "text": [
      "<class 'pandas.core.frame.DataFrame'>\n",
      "RangeIndex: 25979 entries, 0 to 25978\n",
      "Data columns (total 11 columns):\n",
      " #   Column      Non-Null Count  Dtype         \n",
      "---  ------      --------------  -----         \n",
      " 0   date_match  25979 non-null  datetime64[ns]\n",
      " 1   season      25979 non-null  object        \n",
      " 2   league      25979 non-null  object        \n",
      " 3   home_team   25979 non-null  object        \n",
      " 4   away_team   25979 non-null  object        \n",
      " 5   home_goal   25979 non-null  int64         \n",
      " 6   away_goal   25979 non-null  int64         \n",
      " 7   B365H       22592 non-null  float64       \n",
      " 8   B365A       22592 non-null  float64       \n",
      " 9   B365D       22592 non-null  float64       \n",
      " 10  winner      25979 non-null  object        \n",
      "dtypes: datetime64[ns](1), float64(3), int64(2), object(5)\n",
      "memory usage: 2.2+ MB\n"
     ]
    }
   ],
   "source": [
    "df['date_match']=pd.to_datetime(df.date_match)\n",
    "df.info()"
   ]
  },
  {
   "cell_type": "code",
   "execution_count": 10,
   "metadata": {
    "scrolled": true
   },
   "outputs": [
    {
     "data": {
      "text/plain": [
       "date_match    22592\n",
       "season        22592\n",
       "league        22592\n",
       "home_team     22592\n",
       "away_team     22592\n",
       "home_goal     22592\n",
       "away_goal     22592\n",
       "B365H         22592\n",
       "B365A         22592\n",
       "B365D         22592\n",
       "winner        22592\n",
       "dtype: int64"
      ]
     },
     "execution_count": 10,
     "metadata": {},
     "output_type": "execute_result"
    }
   ],
   "source": [
    "df_bet=df.dropna().copy() #using the copy() method to create a copy and avoid the \"settingwithcopy\" warning when we add a new column to this dataframe\n",
    "df_bet.count()"
   ]
  },
  {
   "cell_type": "code",
   "execution_count": 11,
   "metadata": {
    "scrolled": false
   },
   "outputs": [
    {
     "data": {
      "text/html": [
       "<div>\n",
       "<style scoped>\n",
       "    .dataframe tbody tr th:only-of-type {\n",
       "        vertical-align: middle;\n",
       "    }\n",
       "\n",
       "    .dataframe tbody tr th {\n",
       "        vertical-align: top;\n",
       "    }\n",
       "\n",
       "    .dataframe thead th {\n",
       "        text-align: right;\n",
       "    }\n",
       "</style>\n",
       "<table border=\"1\" class=\"dataframe\">\n",
       "  <thead>\n",
       "    <tr style=\"text-align: right;\">\n",
       "      <th></th>\n",
       "      <th>date_match</th>\n",
       "      <th>season</th>\n",
       "      <th>league</th>\n",
       "      <th>home_team</th>\n",
       "      <th>away_team</th>\n",
       "      <th>home_goal</th>\n",
       "      <th>away_goal</th>\n",
       "      <th>B365H</th>\n",
       "      <th>B365A</th>\n",
       "      <th>B365D</th>\n",
       "      <th>winner</th>\n",
       "    </tr>\n",
       "  </thead>\n",
       "  <tbody>\n",
       "    <tr>\n",
       "      <th>22</th>\n",
       "      <td>2008-08-09</td>\n",
       "      <td>2008/2009</td>\n",
       "      <td>France Ligue 1</td>\n",
       "      <td>AJ Auxerre</td>\n",
       "      <td>FC Nantes</td>\n",
       "      <td>2</td>\n",
       "      <td>1</td>\n",
       "      <td>2.10</td>\n",
       "      <td>3.75</td>\n",
       "      <td>3.1</td>\n",
       "      <td>Home</td>\n",
       "    </tr>\n",
       "    <tr>\n",
       "      <th>23</th>\n",
       "      <td>2008-08-09</td>\n",
       "      <td>2008/2009</td>\n",
       "      <td>France Ligue 1</td>\n",
       "      <td>Girondins de Bordeaux</td>\n",
       "      <td>SM Caen</td>\n",
       "      <td>2</td>\n",
       "      <td>1</td>\n",
       "      <td>1.57</td>\n",
       "      <td>6.50</td>\n",
       "      <td>3.6</td>\n",
       "      <td>Home</td>\n",
       "    </tr>\n",
       "    <tr>\n",
       "      <th>24</th>\n",
       "      <td>2008-08-09</td>\n",
       "      <td>2008/2009</td>\n",
       "      <td>France Ligue 1</td>\n",
       "      <td>Le Havre AC</td>\n",
       "      <td>OGC Nice</td>\n",
       "      <td>1</td>\n",
       "      <td>0</td>\n",
       "      <td>2.30</td>\n",
       "      <td>3.40</td>\n",
       "      <td>3.0</td>\n",
       "      <td>Home</td>\n",
       "    </tr>\n",
       "    <tr>\n",
       "      <th>25</th>\n",
       "      <td>2008-08-09</td>\n",
       "      <td>2008/2009</td>\n",
       "      <td>France Ligue 1</td>\n",
       "      <td>Le Mans FC</td>\n",
       "      <td>FC Lorient</td>\n",
       "      <td>0</td>\n",
       "      <td>1</td>\n",
       "      <td>2.10</td>\n",
       "      <td>3.80</td>\n",
       "      <td>3.1</td>\n",
       "      <td>Away</td>\n",
       "    </tr>\n",
       "    <tr>\n",
       "      <th>26</th>\n",
       "      <td>2008-08-09</td>\n",
       "      <td>2008/2009</td>\n",
       "      <td>France Ligue 1</td>\n",
       "      <td>AS Monaco</td>\n",
       "      <td>Paris Saint-Germain</td>\n",
       "      <td>1</td>\n",
       "      <td>0</td>\n",
       "      <td>2.40</td>\n",
       "      <td>3.10</td>\n",
       "      <td>3.1</td>\n",
       "      <td>Home</td>\n",
       "    </tr>\n",
       "  </tbody>\n",
       "</table>\n",
       "</div>"
      ],
      "text/plain": [
       "   date_match     season          league              home_team  \\\n",
       "22 2008-08-09  2008/2009  France Ligue 1             AJ Auxerre   \n",
       "23 2008-08-09  2008/2009  France Ligue 1  Girondins de Bordeaux   \n",
       "24 2008-08-09  2008/2009  France Ligue 1            Le Havre AC   \n",
       "25 2008-08-09  2008/2009  France Ligue 1             Le Mans FC   \n",
       "26 2008-08-09  2008/2009  France Ligue 1              AS Monaco   \n",
       "\n",
       "              away_team  home_goal  away_goal  B365H  B365A  B365D winner  \n",
       "22            FC Nantes          2          1   2.10   3.75    3.1   Home  \n",
       "23              SM Caen          2          1   1.57   6.50    3.6   Home  \n",
       "24             OGC Nice          1          0   2.30   3.40    3.0   Home  \n",
       "25           FC Lorient          0          1   2.10   3.80    3.1   Away  \n",
       "26  Paris Saint-Germain          1          0   2.40   3.10    3.1   Home  "
      ]
     },
     "execution_count": 11,
     "metadata": {},
     "output_type": "execute_result"
    }
   ],
   "source": [
    "df_bet.head()"
   ]
  },
  {
   "cell_type": "markdown",
   "metadata": {
    "collapsed": true
   },
   "source": [
    "<a id='eda'></a>\n",
    "## Exploratory Data Analysis\n",
    "\n",
    "Now that our dataset is ready, we can proceed to answer the questions posted earlier\n",
    "\n",
    "### Research Question 1:  What are the probability of winning based on the team location: Home vs Away?\n"
   ]
  },
  {
   "cell_type": "markdown",
   "metadata": {},
   "source": [
    "To answer our first question, we will calculate the probability of winning for each category (Home, Away and Draw). For that we will see the count for each category and divide it by the total number of matches. The data will be plotted in a bar chart to have a clear visualization on which category has the highest winning probability."
   ]
  },
  {
   "cell_type": "code",
   "execution_count": 12,
   "metadata": {
    "scrolled": false
   },
   "outputs": [
    {
     "data": {
      "text/plain": [
       "Home    11917\n",
       "Away     7466\n",
       "Draw     6596\n",
       "Name: winner, dtype: int64"
      ]
     },
     "execution_count": 12,
     "metadata": {},
     "output_type": "execute_result"
    }
   ],
   "source": [
    "winner_category_total=df.winner.value_counts()\n",
    "winner_category_total"
   ]
  },
  {
   "cell_type": "code",
   "execution_count": 13,
   "metadata": {
    "scrolled": false
   },
   "outputs": [
    {
     "data": {
      "text/plain": [
       "Home    0.458717\n",
       "Away    0.287386\n",
       "Draw    0.253897\n",
       "Name: winner, dtype: float64"
      ]
     },
     "execution_count": 13,
     "metadata": {},
     "output_type": "execute_result"
    }
   ],
   "source": [
    "total_num_match=df.winner.value_counts().sum()\n",
    "prob_winner = winner_category_total/total_num_match\n",
    "prob_winner"
   ]
  },
  {
   "cell_type": "markdown",
   "metadata": {},
   "source": [
    "Below we will define a function for plotting bar charts since that will be used few times on this analysis"
   ]
  },
  {
   "cell_type": "code",
   "execution_count": 14,
   "metadata": {},
   "outputs": [],
   "source": [
    "def plot_bar(dataframe_1D,label_y,label_x,titlelabel):\n",
    "    sns.barplot(x=dataframe_1D.index, y=dataframe_1D.values).set(ylabel=label_y, xlabel=label_x,title=titlelabel);\n",
    "    return;\n",
    "    "
   ]
  },
  {
   "cell_type": "code",
   "execution_count": 15,
   "metadata": {
    "scrolled": true
   },
   "outputs": [
    {
     "data": {
      "image/png": "[encoded data removed]",
      "text/plain": [
       "<Figure size 432x288 with 1 Axes>"
      ]
     },
     "metadata": {
      "needs_background": "light"
     },
     "output_type": "display_data"
    }
   ],
   "source": [
    "plot_bar(prob_winner,'Winner Probability', 'Category', 'Team Winning Probability Based on Game Location')"
   ]
  },
  {
   "cell_type": "markdown",
   "metadata": {},
   "source": [
    "Based on the numbers above, overall, it seems that the home team has 46% probability of winning. That number is based on the matches for all the leagues. Let's see if this is consistent within the leagues. \n",
    "\n",
    "It is important to clarify that **correlation does not imply causation**; this is just an observation and it could be attributed to other possible factors not just the location of the game."
   ]
  },
  {
   "cell_type": "markdown",
   "metadata": {},
   "source": [
    "\n",
    "### Research Question 2: Are those probabilities similar across all the leagues?"
   ]
  },
  {
   "cell_type": "markdown",
   "metadata": {},
   "source": [
    "We are counting each category (Home, Away and Draw) for each league and dividing by the total number of matches per league. Then we will add the probability into a new data frame"
   ]
  },
  {
   "cell_type": "code",
   "execution_count": 16,
   "metadata": {
    "scrolled": false
   },
   "outputs": [
    {
     "data": {
      "text/html": [
       "<div>\n",
       "<style scoped>\n",
       "    .dataframe tbody tr th:only-of-type {\n",
       "        vertical-align: middle;\n",
       "    }\n",
       "\n",
       "    .dataframe tbody tr th {\n",
       "        vertical-align: top;\n",
       "    }\n",
       "\n",
       "    .dataframe thead th {\n",
       "        text-align: right;\n",
       "    }\n",
       "</style>\n",
       "<table border=\"1\" class=\"dataframe\">\n",
       "  <thead>\n",
       "    <tr style=\"text-align: right;\">\n",
       "      <th></th>\n",
       "      <th>home</th>\n",
       "      <th>away</th>\n",
       "      <th>draw</th>\n",
       "    </tr>\n",
       "    <tr>\n",
       "      <th>league</th>\n",
       "      <th></th>\n",
       "      <th></th>\n",
       "      <th></th>\n",
       "    </tr>\n",
       "  </thead>\n",
       "  <tbody>\n",
       "    <tr>\n",
       "      <th>Belgium Jupiler League</th>\n",
       "      <td>0.468750</td>\n",
       "      <td>0.285301</td>\n",
       "      <td>0.245949</td>\n",
       "    </tr>\n",
       "    <tr>\n",
       "      <th>England Premier League</th>\n",
       "      <td>0.457237</td>\n",
       "      <td>0.285197</td>\n",
       "      <td>0.257566</td>\n",
       "    </tr>\n",
       "    <tr>\n",
       "      <th>France Ligue 1</th>\n",
       "      <td>0.447039</td>\n",
       "      <td>0.270395</td>\n",
       "      <td>0.282566</td>\n",
       "    </tr>\n",
       "    <tr>\n",
       "      <th>Germany 1. Bundesliga</th>\n",
       "      <td>0.452206</td>\n",
       "      <td>0.303922</td>\n",
       "      <td>0.243873</td>\n",
       "    </tr>\n",
       "    <tr>\n",
       "      <th>Italy Serie A</th>\n",
       "      <td>0.466357</td>\n",
       "      <td>0.269804</td>\n",
       "      <td>0.263838</td>\n",
       "    </tr>\n",
       "  </tbody>\n",
       "</table>\n",
       "</div>"
      ],
      "text/plain": [
       "                            home      away      draw\n",
       "league                                              \n",
       "Belgium Jupiler League  0.468750  0.285301  0.245949\n",
       "England Premier League  0.457237  0.285197  0.257566\n",
       "France Ligue 1          0.447039  0.270395  0.282566\n",
       "Germany 1. Bundesliga   0.452206  0.303922  0.243873\n",
       "Italy Serie A           0.466357  0.269804  0.263838"
      ]
     },
     "execution_count": 16,
     "metadata": {},
     "output_type": "execute_result"
    }
   ],
   "source": [
    "home_cnt=df.query('winner==\"Home\"').groupby('league').count()\n",
    "away_cnt=df.query('winner==\"Away\"').groupby('league').count()\n",
    "draw_cnt=df.query('winner==\"Draw\"').groupby('league').count()\n",
    "total_cnt=df.groupby('league').count()\n",
    "league_prob=pd.DataFrame(index=total_cnt.index)\n",
    "league_prob['home']=home_cnt['winner']/total_cnt['winner']\n",
    "league_prob['away']=away_cnt['winner']/total_cnt['winner']\n",
    "league_prob['draw']=draw_cnt['winner']/total_cnt['winner']\n",
    "league_prob.head()"
   ]
  },
  {
   "cell_type": "code",
   "execution_count": 17,
   "metadata": {},
   "outputs": [
    {
     "data": {
      "text/plain": [
       "(11, 3)"
      ]
     },
     "execution_count": 17,
     "metadata": {},
     "output_type": "execute_result"
    }
   ],
   "source": [
    "league_prob.shape"
   ]
  },
  {
   "cell_type": "markdown",
   "metadata": {},
   "source": [
    "We will flatten the data set and then we will used melt to put it in a format that can be plotted by seaborn"
   ]
  },
  {
   "cell_type": "code",
   "execution_count": 18,
   "metadata": {
    "scrolled": true
   },
   "outputs": [
    {
     "data": {
      "text/html": [
       "<div>\n",
       "<style scoped>\n",
       "    .dataframe tbody tr th:only-of-type {\n",
       "        vertical-align: middle;\n",
       "    }\n",
       "\n",
       "    .dataframe tbody tr th {\n",
       "        vertical-align: top;\n",
       "    }\n",
       "\n",
       "    .dataframe thead th {\n",
       "        text-align: right;\n",
       "    }\n",
       "</style>\n",
       "<table border=\"1\" class=\"dataframe\">\n",
       "  <thead>\n",
       "    <tr style=\"text-align: right;\">\n",
       "      <th></th>\n",
       "      <th>league</th>\n",
       "      <th>home</th>\n",
       "      <th>away</th>\n",
       "      <th>draw</th>\n",
       "    </tr>\n",
       "  </thead>\n",
       "  <tbody>\n",
       "    <tr>\n",
       "      <th>0</th>\n",
       "      <td>Belgium Jupiler League</td>\n",
       "      <td>0.468750</td>\n",
       "      <td>0.285301</td>\n",
       "      <td>0.245949</td>\n",
       "    </tr>\n",
       "    <tr>\n",
       "      <th>1</th>\n",
       "      <td>England Premier League</td>\n",
       "      <td>0.457237</td>\n",
       "      <td>0.285197</td>\n",
       "      <td>0.257566</td>\n",
       "    </tr>\n",
       "    <tr>\n",
       "      <th>2</th>\n",
       "      <td>France Ligue 1</td>\n",
       "      <td>0.447039</td>\n",
       "      <td>0.270395</td>\n",
       "      <td>0.282566</td>\n",
       "    </tr>\n",
       "    <tr>\n",
       "      <th>3</th>\n",
       "      <td>Germany 1. Bundesliga</td>\n",
       "      <td>0.452206</td>\n",
       "      <td>0.303922</td>\n",
       "      <td>0.243873</td>\n",
       "    </tr>\n",
       "    <tr>\n",
       "      <th>4</th>\n",
       "      <td>Italy Serie A</td>\n",
       "      <td>0.466357</td>\n",
       "      <td>0.269804</td>\n",
       "      <td>0.263838</td>\n",
       "    </tr>\n",
       "  </tbody>\n",
       "</table>\n",
       "</div>"
      ],
      "text/plain": [
       "                   league      home      away      draw\n",
       "0  Belgium Jupiler League  0.468750  0.285301  0.245949\n",
       "1  England Premier League  0.457237  0.285197  0.257566\n",
       "2          France Ligue 1  0.447039  0.270395  0.282566\n",
       "3   Germany 1. Bundesliga  0.452206  0.303922  0.243873\n",
       "4           Italy Serie A  0.466357  0.269804  0.263838"
      ]
     },
     "execution_count": 18,
     "metadata": {},
     "output_type": "execute_result"
    }
   ],
   "source": [
    "league_prob_flat=pd.DataFrame(league_prob.to_records()) #reshaping the data to remove the multi-index using to_records() function\n",
    "league_prob_flat.head()"
   ]
  },
  {
   "cell_type": "code",
   "execution_count": 19,
   "metadata": {
    "scrolled": true
   },
   "outputs": [
    {
     "data": {
      "text/html": [
       "<div>\n",
       "<style scoped>\n",
       "    .dataframe tbody tr th:only-of-type {\n",
       "        vertical-align: middle;\n",
       "    }\n",
       "\n",
       "    .dataframe tbody tr th {\n",
       "        vertical-align: top;\n",
       "    }\n",
       "\n",
       "    .dataframe thead th {\n",
       "        text-align: right;\n",
       "    }\n",
       "</style>\n",
       "<table border=\"1\" class=\"dataframe\">\n",
       "  <thead>\n",
       "    <tr style=\"text-align: right;\">\n",
       "      <th></th>\n",
       "      <th>league</th>\n",
       "      <th>Winner_Location</th>\n",
       "      <th>Probability</th>\n",
       "    </tr>\n",
       "  </thead>\n",
       "  <tbody>\n",
       "    <tr>\n",
       "      <th>0</th>\n",
       "      <td>Belgium Jupiler League</td>\n",
       "      <td>home</td>\n",
       "      <td>0.468750</td>\n",
       "    </tr>\n",
       "    <tr>\n",
       "      <th>1</th>\n",
       "      <td>England Premier League</td>\n",
       "      <td>home</td>\n",
       "      <td>0.457237</td>\n",
       "    </tr>\n",
       "    <tr>\n",
       "      <th>2</th>\n",
       "      <td>France Ligue 1</td>\n",
       "      <td>home</td>\n",
       "      <td>0.447039</td>\n",
       "    </tr>\n",
       "    <tr>\n",
       "      <th>3</th>\n",
       "      <td>Germany 1. Bundesliga</td>\n",
       "      <td>home</td>\n",
       "      <td>0.452206</td>\n",
       "    </tr>\n",
       "    <tr>\n",
       "      <th>4</th>\n",
       "      <td>Italy Serie A</td>\n",
       "      <td>home</td>\n",
       "      <td>0.466357</td>\n",
       "    </tr>\n",
       "  </tbody>\n",
       "</table>\n",
       "</div>"
      ],
      "text/plain": [
       "                   league Winner_Location  Probability\n",
       "0  Belgium Jupiler League            home     0.468750\n",
       "1  England Premier League            home     0.457237\n",
       "2          France Ligue 1            home     0.447039\n",
       "3   Germany 1. Bundesliga            home     0.452206\n",
       "4           Italy Serie A            home     0.466357"
      ]
     },
     "execution_count": 19,
     "metadata": {},
     "output_type": "execute_result"
    }
   ],
   "source": [
    "league_prob_melt=league_prob_flat.melt('league', var_name='Winner_Location',  value_name='Probability') #adjusting the dataframe to be plotted by seaborn\n",
    "league_prob_melt.head()"
   ]
  },
  {
   "cell_type": "markdown",
   "metadata": {},
   "source": [
    "The data will be plotted in a series of line charts to check if the trends are flat between the leagues or if specific league have higher or lower probability. We will make a plot from home, away and draw."
   ]
  },
  {
   "cell_type": "code",
   "execution_count": 20,
   "metadata": {
    "scrolled": true
   },
   "outputs": [
    {
     "data": {
      "image/png": "[encoded data removed]",
      "text/plain": [
       "<Figure size 1080x360 with 3 Axes>"
      ]
     },
     "metadata": {
      "needs_background": "light"
     },
     "output_type": "display_data"
    }
   ],
   "source": [
    "League_prob_fig = sns.catplot(x='league', y='Probability', col='Winner_Location', col_wrap=3, data=league_prob_melt, kind='point');\n",
    "League_prob_fig.set_xticklabels(rotation=90);"
   ]
  },
  {
   "cell_type": "code",
   "execution_count": 21,
   "metadata": {},
   "outputs": [
    {
     "data": {
      "text/plain": [
       "0.4166666666666667"
      ]
     },
     "execution_count": 21,
     "metadata": {},
     "output_type": "execute_result"
    }
   ],
   "source": [
    "league_prob_flat.home.min()"
   ]
  },
  {
   "cell_type": "code",
   "execution_count": 22,
   "metadata": {},
   "outputs": [
    {
     "data": {
      "text/plain": [
       "0.48848684210526316"
      ]
     },
     "execution_count": 22,
     "metadata": {},
     "output_type": "execute_result"
    }
   ],
   "source": [
    "league_prob_flat.home.max()"
   ]
  },
  {
   "cell_type": "markdown",
   "metadata": {},
   "source": [
    "Based on the figures above, it looks like the home team usually has 41% to 49% probability of winning regardless of the league. The draw and away probabilities are also similar to the average presented above.\n",
    "\n",
    "It is important to clarify that **correlation does not imply causation**; this is just an observation and it could be attributed to other possible factors not just the location of the game."
   ]
  },
  {
   "cell_type": "markdown",
   "metadata": {},
   "source": [
    "### Research Question 3: How accurate are the betting odds from Bet365?"
   ]
  },
  {
   "cell_type": "markdown",
   "metadata": {},
   "source": [
    "For betting odds, the lowest number is the most likely outcome of the match. For more details, please check <a href=https://www.gamblingsites.com/sports-betting/introduction/value-odds/>Betting odds</a>"
   ]
  },
  {
   "cell_type": "code",
   "execution_count": 23,
   "metadata": {
    "scrolled": false
   },
   "outputs": [
    {
     "data": {
      "text/html": [
       "<div>\n",
       "<style scoped>\n",
       "    .dataframe tbody tr th:only-of-type {\n",
       "        vertical-align: middle;\n",
       "    }\n",
       "\n",
       "    .dataframe tbody tr th {\n",
       "        vertical-align: top;\n",
       "    }\n",
       "\n",
       "    .dataframe thead th {\n",
       "        text-align: right;\n",
       "    }\n",
       "</style>\n",
       "<table border=\"1\" class=\"dataframe\">\n",
       "  <thead>\n",
       "    <tr style=\"text-align: right;\">\n",
       "      <th></th>\n",
       "      <th>date_match</th>\n",
       "      <th>season</th>\n",
       "      <th>league</th>\n",
       "      <th>home_team</th>\n",
       "      <th>away_team</th>\n",
       "      <th>home_goal</th>\n",
       "      <th>away_goal</th>\n",
       "      <th>B365H</th>\n",
       "      <th>B365A</th>\n",
       "      <th>B365D</th>\n",
       "      <th>winner</th>\n",
       "    </tr>\n",
       "  </thead>\n",
       "  <tbody>\n",
       "    <tr>\n",
       "      <th>22</th>\n",
       "      <td>2008-08-09</td>\n",
       "      <td>2008/2009</td>\n",
       "      <td>France Ligue 1</td>\n",
       "      <td>AJ Auxerre</td>\n",
       "      <td>FC Nantes</td>\n",
       "      <td>2</td>\n",
       "      <td>1</td>\n",
       "      <td>2.10</td>\n",
       "      <td>3.75</td>\n",
       "      <td>3.1</td>\n",
       "      <td>Home</td>\n",
       "    </tr>\n",
       "    <tr>\n",
       "      <th>23</th>\n",
       "      <td>2008-08-09</td>\n",
       "      <td>2008/2009</td>\n",
       "      <td>France Ligue 1</td>\n",
       "      <td>Girondins de Bordeaux</td>\n",
       "      <td>SM Caen</td>\n",
       "      <td>2</td>\n",
       "      <td>1</td>\n",
       "      <td>1.57</td>\n",
       "      <td>6.50</td>\n",
       "      <td>3.6</td>\n",
       "      <td>Home</td>\n",
       "    </tr>\n",
       "    <tr>\n",
       "      <th>24</th>\n",
       "      <td>2008-08-09</td>\n",
       "      <td>2008/2009</td>\n",
       "      <td>France Ligue 1</td>\n",
       "      <td>Le Havre AC</td>\n",
       "      <td>OGC Nice</td>\n",
       "      <td>1</td>\n",
       "      <td>0</td>\n",
       "      <td>2.30</td>\n",
       "      <td>3.40</td>\n",
       "      <td>3.0</td>\n",
       "      <td>Home</td>\n",
       "    </tr>\n",
       "    <tr>\n",
       "      <th>25</th>\n",
       "      <td>2008-08-09</td>\n",
       "      <td>2008/2009</td>\n",
       "      <td>France Ligue 1</td>\n",
       "      <td>Le Mans FC</td>\n",
       "      <td>FC Lorient</td>\n",
       "      <td>0</td>\n",
       "      <td>1</td>\n",
       "      <td>2.10</td>\n",
       "      <td>3.80</td>\n",
       "      <td>3.1</td>\n",
       "      <td>Away</td>\n",
       "    </tr>\n",
       "    <tr>\n",
       "      <th>26</th>\n",
       "      <td>2008-08-09</td>\n",
       "      <td>2008/2009</td>\n",
       "      <td>France Ligue 1</td>\n",
       "      <td>AS Monaco</td>\n",
       "      <td>Paris Saint-Germain</td>\n",
       "      <td>1</td>\n",
       "      <td>0</td>\n",
       "      <td>2.40</td>\n",
       "      <td>3.10</td>\n",
       "      <td>3.1</td>\n",
       "      <td>Home</td>\n",
       "    </tr>\n",
       "  </tbody>\n",
       "</table>\n",
       "</div>"
      ],
      "text/plain": [
       "   date_match     season          league              home_team  \\\n",
       "22 2008-08-09  2008/2009  France Ligue 1             AJ Auxerre   \n",
       "23 2008-08-09  2008/2009  France Ligue 1  Girondins de Bordeaux   \n",
       "24 2008-08-09  2008/2009  France Ligue 1            Le Havre AC   \n",
       "25 2008-08-09  2008/2009  France Ligue 1             Le Mans FC   \n",
       "26 2008-08-09  2008/2009  France Ligue 1              AS Monaco   \n",
       "\n",
       "              away_team  home_goal  away_goal  B365H  B365A  B365D winner  \n",
       "22            FC Nantes          2          1   2.10   3.75    3.1   Home  \n",
       "23              SM Caen          2          1   1.57   6.50    3.6   Home  \n",
       "24             OGC Nice          1          0   2.30   3.40    3.0   Home  \n",
       "25           FC Lorient          0          1   2.10   3.80    3.1   Away  \n",
       "26  Paris Saint-Germain          1          0   2.40   3.10    3.1   Home  "
      ]
     },
     "execution_count": 23,
     "metadata": {},
     "output_type": "execute_result"
    }
   ],
   "source": [
    "df_bet.head()"
   ]
  },
  {
   "cell_type": "markdown",
   "metadata": {},
   "source": [
    "Now we will add a new column (bet_exp) with the expected outcome of the match based on the lowest number from the three betting columns (B365H, B365A and B365D)"
   ]
  },
  {
   "cell_type": "code",
   "execution_count": 24,
   "metadata": {
    "scrolled": false
   },
   "outputs": [],
   "source": [
    "conditions = [np.logical_and(df_bet['B365H'] < df_bet['B365A'], df_bet['B365H'] < df_bet['B365D']),np.logical_and(df_bet['B365A'] < df_bet['B365H'], df_bet['B365A'] < df_bet['B365D']), np.logical_and(df_bet['B365D'] < df_bet['B365H'], df_bet['B365D'] < df_bet['B365A'])]\n",
    "choices = ['Home', 'Away', 'Draw']\n",
    "df_bet['bet_exp'] = np.select(conditions, choices, default='Error')"
   ]
  },
  {
   "cell_type": "code",
   "execution_count": 25,
   "metadata": {},
   "outputs": [
    {
     "data": {
      "text/html": [
       "<div>\n",
       "<style scoped>\n",
       "    .dataframe tbody tr th:only-of-type {\n",
       "        vertical-align: middle;\n",
       "    }\n",
       "\n",
       "    .dataframe tbody tr th {\n",
       "        vertical-align: top;\n",
       "    }\n",
       "\n",
       "    .dataframe thead th {\n",
       "        text-align: right;\n",
       "    }\n",
       "</style>\n",
       "<table border=\"1\" class=\"dataframe\">\n",
       "  <thead>\n",
       "    <tr style=\"text-align: right;\">\n",
       "      <th></th>\n",
       "      <th>date_match</th>\n",
       "      <th>season</th>\n",
       "      <th>league</th>\n",
       "      <th>home_team</th>\n",
       "      <th>away_team</th>\n",
       "      <th>home_goal</th>\n",
       "      <th>away_goal</th>\n",
       "      <th>B365H</th>\n",
       "      <th>B365A</th>\n",
       "      <th>B365D</th>\n",
       "      <th>winner</th>\n",
       "      <th>bet_exp</th>\n",
       "    </tr>\n",
       "  </thead>\n",
       "  <tbody>\n",
       "    <tr>\n",
       "      <th>22</th>\n",
       "      <td>2008-08-09</td>\n",
       "      <td>2008/2009</td>\n",
       "      <td>France Ligue 1</td>\n",
       "      <td>AJ Auxerre</td>\n",
       "      <td>FC Nantes</td>\n",
       "      <td>2</td>\n",
       "      <td>1</td>\n",
       "      <td>2.10</td>\n",
       "      <td>3.75</td>\n",
       "      <td>3.1</td>\n",
       "      <td>Home</td>\n",
       "      <td>Home</td>\n",
       "    </tr>\n",
       "    <tr>\n",
       "      <th>23</th>\n",
       "      <td>2008-08-09</td>\n",
       "      <td>2008/2009</td>\n",
       "      <td>France Ligue 1</td>\n",
       "      <td>Girondins de Bordeaux</td>\n",
       "      <td>SM Caen</td>\n",
       "      <td>2</td>\n",
       "      <td>1</td>\n",
       "      <td>1.57</td>\n",
       "      <td>6.50</td>\n",
       "      <td>3.6</td>\n",
       "      <td>Home</td>\n",
       "      <td>Home</td>\n",
       "    </tr>\n",
       "    <tr>\n",
       "      <th>24</th>\n",
       "      <td>2008-08-09</td>\n",
       "      <td>2008/2009</td>\n",
       "      <td>France Ligue 1</td>\n",
       "      <td>Le Havre AC</td>\n",
       "      <td>OGC Nice</td>\n",
       "      <td>1</td>\n",
       "      <td>0</td>\n",
       "      <td>2.30</td>\n",
       "      <td>3.40</td>\n",
       "      <td>3.0</td>\n",
       "      <td>Home</td>\n",
       "      <td>Home</td>\n",
       "    </tr>\n",
       "    <tr>\n",
       "      <th>25</th>\n",
       "      <td>2008-08-09</td>\n",
       "      <td>2008/2009</td>\n",
       "      <td>France Ligue 1</td>\n",
       "      <td>Le Mans FC</td>\n",
       "      <td>FC Lorient</td>\n",
       "      <td>0</td>\n",
       "      <td>1</td>\n",
       "      <td>2.10</td>\n",
       "      <td>3.80</td>\n",
       "      <td>3.1</td>\n",
       "      <td>Away</td>\n",
       "      <td>Home</td>\n",
       "    </tr>\n",
       "    <tr>\n",
       "      <th>26</th>\n",
       "      <td>2008-08-09</td>\n",
       "      <td>2008/2009</td>\n",
       "      <td>France Ligue 1</td>\n",
       "      <td>AS Monaco</td>\n",
       "      <td>Paris Saint-Germain</td>\n",
       "      <td>1</td>\n",
       "      <td>0</td>\n",
       "      <td>2.40</td>\n",
       "      <td>3.10</td>\n",
       "      <td>3.1</td>\n",
       "      <td>Home</td>\n",
       "      <td>Home</td>\n",
       "    </tr>\n",
       "  </tbody>\n",
       "</table>\n",
       "</div>"
      ],
      "text/plain": [
       "   date_match     season          league              home_team  \\\n",
       "22 2008-08-09  2008/2009  France Ligue 1             AJ Auxerre   \n",
       "23 2008-08-09  2008/2009  France Ligue 1  Girondins de Bordeaux   \n",
       "24 2008-08-09  2008/2009  France Ligue 1            Le Havre AC   \n",
       "25 2008-08-09  2008/2009  France Ligue 1             Le Mans FC   \n",
       "26 2008-08-09  2008/2009  France Ligue 1              AS Monaco   \n",
       "\n",
       "              away_team  home_goal  away_goal  B365H  B365A  B365D winner  \\\n",
       "22            FC Nantes          2          1   2.10   3.75    3.1   Home   \n",
       "23              SM Caen          2          1   1.57   6.50    3.6   Home   \n",
       "24             OGC Nice          1          0   2.30   3.40    3.0   Home   \n",
       "25           FC Lorient          0          1   2.10   3.80    3.1   Away   \n",
       "26  Paris Saint-Germain          1          0   2.40   3.10    3.1   Home   \n",
       "\n",
       "   bet_exp  \n",
       "22    Home  \n",
       "23    Home  \n",
       "24    Home  \n",
       "25    Home  \n",
       "26    Home  "
      ]
     },
     "execution_count": 25,
     "metadata": {},
     "output_type": "execute_result"
    }
   ],
   "source": [
    "df_bet.head()"
   ]
  },
  {
   "cell_type": "markdown",
   "metadata": {},
   "source": [
    "Based on that column, we will count how many time the expected outcome predicts the actual outcome of the match and we will calculate the probability by dividing it by the total numner of games."
   ]
  },
  {
   "cell_type": "code",
   "execution_count": 26,
   "metadata": {},
   "outputs": [
    {
     "data": {
      "text/plain": [
       "22592"
      ]
     },
     "execution_count": 26,
     "metadata": {},
     "output_type": "execute_result"
    }
   ],
   "source": [
    "df_bet.count()['bet_exp']"
   ]
  },
  {
   "cell_type": "code",
   "execution_count": 27,
   "metadata": {},
   "outputs": [
    {
     "data": {
      "text/plain": [
       "0.5304975212464589"
      ]
     },
     "execution_count": 27,
     "metadata": {},
     "output_type": "execute_result"
    }
   ],
   "source": [
    "accurate_exp_count=df_bet.query('winner == bet_exp').count()['bet_exp']\n",
    "total_bet_count=df_bet.count()['bet_exp']\n",
    "accurate_ratio=accurate_exp_count/total_bet_count\n",
    "accurate_ratio"
   ]
  },
  {
   "cell_type": "markdown",
   "metadata": {},
   "source": [
    "Surprisingly, the accuracy of the betting odds are not much higher than our previous prediction based on location. Let's add the betting odds accuracy ratio to our location probability plot. For that we will use the function we created earlier: **plot_bar**"
   ]
  },
  {
   "cell_type": "code",
   "execution_count": 28,
   "metadata": {},
   "outputs": [
    {
     "data": {
      "text/plain": [
       "Home    0.458717\n",
       "Away    0.287386\n",
       "Draw    0.253897\n",
       "Name: winner, dtype: float64"
      ]
     },
     "execution_count": 28,
     "metadata": {},
     "output_type": "execute_result"
    }
   ],
   "source": [
    "prob_winner"
   ]
  },
  {
   "cell_type": "code",
   "execution_count": 29,
   "metadata": {
    "scrolled": true
   },
   "outputs": [
    {
     "data": {
      "image/png": "[encoded data removed]",
      "text/plain": [
       "<Figure size 432x288 with 1 Axes>"
      ]
     },
     "metadata": {
      "needs_background": "light"
     },
     "output_type": "display_data"
    }
   ],
   "source": [
    "prob_winner['Betting odds']=accurate_ratio\n",
    "plot_bar(prob_winner,'Winner Probability', 'Category', 'Team Winning Probability Based on Game Location vs Bet365 odds')\n"
   ]
  },
  {
   "cell_type": "markdown",
   "metadata": {},
   "source": [
    "This is an interesting observation, however \"correlation does not imply causation\". This observation could be attributed to other possible factors not accounted in this evaluation."
   ]
  },
  {
   "cell_type": "markdown",
   "metadata": {},
   "source": [
    "### Research Question 4: Which team has the highest winning ratio within each league for the 2015/2016 season?"
   ]
  },
  {
   "cell_type": "markdown",
   "metadata": {},
   "source": [
    "To answer this question, we will create a dataframe with the total number of won games for each team; it will account the matches won as home team as well as the matches won while visiting other teams. Two dataset will be created, one for the teams that won at home and the other for the teams that won away; the two dataset will be merged (concat) to have a dataframe with all the winning teams. The columns for the new dataframe will be renamed and unnecessary columns will be removed."
   ]
  },
  {
   "cell_type": "code",
   "execution_count": 30,
   "metadata": {
    "scrolled": false
   },
   "outputs": [
    {
     "data": {
      "text/html": [
       "<div>\n",
       "<style scoped>\n",
       "    .dataframe tbody tr th:only-of-type {\n",
       "        vertical-align: middle;\n",
       "    }\n",
       "\n",
       "    .dataframe tbody tr th {\n",
       "        vertical-align: top;\n",
       "    }\n",
       "\n",
       "    .dataframe thead th {\n",
       "        text-align: right;\n",
       "    }\n",
       "</style>\n",
       "<table border=\"1\" class=\"dataframe\">\n",
       "  <thead>\n",
       "    <tr style=\"text-align: right;\">\n",
       "      <th></th>\n",
       "      <th>date_match</th>\n",
       "      <th>season</th>\n",
       "      <th>league</th>\n",
       "      <th>winner_team</th>\n",
       "      <th>home_goal</th>\n",
       "      <th>away_goal</th>\n",
       "      <th>winner_location</th>\n",
       "    </tr>\n",
       "  </thead>\n",
       "  <tbody>\n",
       "    <tr>\n",
       "      <th>0</th>\n",
       "      <td>2008-07-19</td>\n",
       "      <td>2008/2009</td>\n",
       "      <td>Switzerland Super League</td>\n",
       "      <td>FC Aarau</td>\n",
       "      <td>3</td>\n",
       "      <td>1</td>\n",
       "      <td>Home</td>\n",
       "    </tr>\n",
       "    <tr>\n",
       "      <th>1</th>\n",
       "      <td>2008-07-23</td>\n",
       "      <td>2008/2009</td>\n",
       "      <td>Switzerland Super League</td>\n",
       "      <td>FC Basel</td>\n",
       "      <td>1</td>\n",
       "      <td>0</td>\n",
       "      <td>Home</td>\n",
       "    </tr>\n",
       "    <tr>\n",
       "      <th>2</th>\n",
       "      <td>2008-07-23</td>\n",
       "      <td>2008/2009</td>\n",
       "      <td>Switzerland Super League</td>\n",
       "      <td>FC Zürich</td>\n",
       "      <td>1</td>\n",
       "      <td>0</td>\n",
       "      <td>Home</td>\n",
       "    </tr>\n",
       "    <tr>\n",
       "      <th>3</th>\n",
       "      <td>2008-07-24</td>\n",
       "      <td>2008/2009</td>\n",
       "      <td>Switzerland Super League</td>\n",
       "      <td>FC Sion</td>\n",
       "      <td>2</td>\n",
       "      <td>1</td>\n",
       "      <td>Home</td>\n",
       "    </tr>\n",
       "    <tr>\n",
       "      <th>4</th>\n",
       "      <td>2008-07-26</td>\n",
       "      <td>2008/2009</td>\n",
       "      <td>Switzerland Super League</td>\n",
       "      <td>FC Basel</td>\n",
       "      <td>2</td>\n",
       "      <td>0</td>\n",
       "      <td>Home</td>\n",
       "    </tr>\n",
       "  </tbody>\n",
       "</table>\n",
       "</div>"
      ],
      "text/plain": [
       "  date_match     season                    league winner_team  home_goal  \\\n",
       "0 2008-07-19  2008/2009  Switzerland Super League    FC Aarau          3   \n",
       "1 2008-07-23  2008/2009  Switzerland Super League    FC Basel          1   \n",
       "2 2008-07-23  2008/2009  Switzerland Super League   FC Zürich          1   \n",
       "3 2008-07-24  2008/2009  Switzerland Super League     FC Sion          2   \n",
       "4 2008-07-26  2008/2009  Switzerland Super League    FC Basel          2   \n",
       "\n",
       "   away_goal winner_location  \n",
       "0          1            Home  \n",
       "1          0            Home  \n",
       "2          0            Home  \n",
       "3          1            Home  \n",
       "4          0            Home  "
      ]
     },
     "execution_count": 30,
     "metadata": {},
     "output_type": "execute_result"
    }
   ],
   "source": [
    "df_home_winner = df.loc[df['winner']=='Home'].reset_index() #reseting index to get a new dataframe\n",
    "df_away_winner = df.loc[df['winner']=='Away'].reset_index()\n",
    "df_home_winner.rename(columns={'home_team':'winner_team'}, inplace=True)\n",
    "df_away_winner.rename(columns={'away_team':'winner_team'}, inplace=True)\n",
    "df_home_winner.drop(columns=['index','away_team','B365H','B365A','B365D'], inplace=True)\n",
    "df_away_winner.drop(columns=['index','home_team','B365H','B365A','B365D'], inplace=True)\n",
    "df_winner=pd.concat([df_home_winner,df_away_winner],sort=False) #merging the two dataset to account for the matches won at home as well as away\n",
    "df_winner.rename(columns={'winner':'winner_location'}, inplace=True)\n",
    "df_winner.head()\n",
    "\n"
   ]
  },
  {
   "cell_type": "markdown",
   "metadata": {},
   "source": [
    "To calculate the winning ratio for each team, we will count the number of games they won and divide them by the total number of matches. Then the dataframe need to be unstacked to be able to get the team with the highest ratio per league on the 2015/2016 season."
   ]
  },
  {
   "cell_type": "code",
   "execution_count": 31,
   "metadata": {
    "scrolled": false
   },
   "outputs": [
    {
     "data": {
      "text/plain": [
       "league                    season     winner_team            \n",
       "Belgium Jupiler League    2008/2009  Beerschot AC               0.323529\n",
       "                                     Club Brugge KV             0.529412\n",
       "                                     FCV Dender EH              0.264706\n",
       "                                     KAA Gent                   0.500000\n",
       "                                     KRC Genk                   0.441176\n",
       "                                                                  ...   \n",
       "Switzerland Super League  2015/2016  FC Thun                    0.277778\n",
       "                                     FC Vaduz                   0.194444\n",
       "                                     FC Zürich                  0.194444\n",
       "                                     Grasshopper Club Zürich    0.416667\n",
       "                                     Lugano                     0.250000\n",
       "Length: 1478, dtype: float64"
      ]
     },
     "execution_count": 31,
     "metadata": {},
     "output_type": "execute_result"
    }
   ],
   "source": [
    "win_count_season=df_winner.groupby(['league','season','winner_team']).count()['winner_location']\n",
    "total_games_season=df.groupby(['league','season','home_team']).count()['winner']+df.groupby(['league','season','away_team']).count()['winner'] #adding the matches for each team when they played at home and the matches when they played as visiting team (away)\n",
    "win_per_season=win_count_season/total_games_season\n",
    "win_per_season"
   ]
  },
  {
   "cell_type": "code",
   "execution_count": 32,
   "metadata": {
    "scrolled": true
   },
   "outputs": [
    {
     "data": {
      "text/html": [
       "<div>\n",
       "<style scoped>\n",
       "    .dataframe tbody tr th:only-of-type {\n",
       "        vertical-align: middle;\n",
       "    }\n",
       "\n",
       "    .dataframe tbody tr th {\n",
       "        vertical-align: top;\n",
       "    }\n",
       "\n",
       "    .dataframe thead th {\n",
       "        text-align: right;\n",
       "    }\n",
       "</style>\n",
       "<table border=\"1\" class=\"dataframe\">\n",
       "  <thead>\n",
       "    <tr style=\"text-align: right;\">\n",
       "      <th></th>\n",
       "      <th>season</th>\n",
       "      <th>2008/2009</th>\n",
       "      <th>2009/2010</th>\n",
       "      <th>2010/2011</th>\n",
       "      <th>2011/2012</th>\n",
       "      <th>2012/2013</th>\n",
       "      <th>2013/2014</th>\n",
       "      <th>2014/2015</th>\n",
       "      <th>2015/2016</th>\n",
       "    </tr>\n",
       "    <tr>\n",
       "      <th>league</th>\n",
       "      <th>winner_team</th>\n",
       "      <th></th>\n",
       "      <th></th>\n",
       "      <th></th>\n",
       "      <th></th>\n",
       "      <th></th>\n",
       "      <th></th>\n",
       "      <th></th>\n",
       "      <th></th>\n",
       "    </tr>\n",
       "  </thead>\n",
       "  <tbody>\n",
       "    <tr>\n",
       "      <th rowspan=\"5\" valign=\"top\">Belgium Jupiler League</th>\n",
       "      <th>Beerschot AC</th>\n",
       "      <td>0.323529</td>\n",
       "      <td>0.321429</td>\n",
       "      <td>0.166667</td>\n",
       "      <td>0.300000</td>\n",
       "      <td>0.200000</td>\n",
       "      <td>NaN</td>\n",
       "      <td>NaN</td>\n",
       "      <td>NaN</td>\n",
       "    </tr>\n",
       "    <tr>\n",
       "      <th>Club Brugge KV</th>\n",
       "      <td>0.529412</td>\n",
       "      <td>0.607143</td>\n",
       "      <td>0.533333</td>\n",
       "      <td>0.633333</td>\n",
       "      <td>0.500000</td>\n",
       "      <td>NaN</td>\n",
       "      <td>0.566667</td>\n",
       "      <td>0.700000</td>\n",
       "    </tr>\n",
       "    <tr>\n",
       "      <th>FCV Dender EH</th>\n",
       "      <td>0.264706</td>\n",
       "      <td>NaN</td>\n",
       "      <td>NaN</td>\n",
       "      <td>NaN</td>\n",
       "      <td>NaN</td>\n",
       "      <td>NaN</td>\n",
       "      <td>NaN</td>\n",
       "      <td>NaN</td>\n",
       "    </tr>\n",
       "    <tr>\n",
       "      <th>KAA Gent</th>\n",
       "      <td>0.500000</td>\n",
       "      <td>0.500000</td>\n",
       "      <td>0.566667</td>\n",
       "      <td>0.566667</td>\n",
       "      <td>0.266667</td>\n",
       "      <td>0.500000</td>\n",
       "      <td>0.533333</td>\n",
       "      <td>0.566667</td>\n",
       "    </tr>\n",
       "    <tr>\n",
       "      <th>KAS Eupen</th>\n",
       "      <td>NaN</td>\n",
       "      <td>NaN</td>\n",
       "      <td>0.166667</td>\n",
       "      <td>NaN</td>\n",
       "      <td>NaN</td>\n",
       "      <td>NaN</td>\n",
       "      <td>NaN</td>\n",
       "      <td>NaN</td>\n",
       "    </tr>\n",
       "    <tr>\n",
       "      <th>...</th>\n",
       "      <th>...</th>\n",
       "      <td>...</td>\n",
       "      <td>...</td>\n",
       "      <td>...</td>\n",
       "      <td>...</td>\n",
       "      <td>...</td>\n",
       "      <td>...</td>\n",
       "      <td>...</td>\n",
       "      <td>...</td>\n",
       "    </tr>\n",
       "    <tr>\n",
       "      <th rowspan=\"5\" valign=\"top\">Switzerland Super League</th>\n",
       "      <th>FC Zürich</th>\n",
       "      <td>0.666667</td>\n",
       "      <td>0.333333</td>\n",
       "      <td>0.583333</td>\n",
       "      <td>0.323529</td>\n",
       "      <td>0.444444</td>\n",
       "      <td>0.388889</td>\n",
       "      <td>0.416667</td>\n",
       "      <td>0.194444</td>\n",
       "    </tr>\n",
       "    <tr>\n",
       "      <th>Grasshopper Club Zürich</th>\n",
       "      <td>0.333333</td>\n",
       "      <td>0.583333</td>\n",
       "      <td>0.277778</td>\n",
       "      <td>0.205882</td>\n",
       "      <td>0.555556</td>\n",
       "      <td>0.527778</td>\n",
       "      <td>0.305556</td>\n",
       "      <td>0.416667</td>\n",
       "    </tr>\n",
       "    <tr>\n",
       "      <th>Lugano</th>\n",
       "      <td>NaN</td>\n",
       "      <td>NaN</td>\n",
       "      <td>NaN</td>\n",
       "      <td>NaN</td>\n",
       "      <td>NaN</td>\n",
       "      <td>NaN</td>\n",
       "      <td>NaN</td>\n",
       "      <td>0.250000</td>\n",
       "    </tr>\n",
       "    <tr>\n",
       "      <th>Neuchâtel Xamax</th>\n",
       "      <td>0.277778</td>\n",
       "      <td>0.305556</td>\n",
       "      <td>0.222222</td>\n",
       "      <td>0.388889</td>\n",
       "      <td>NaN</td>\n",
       "      <td>NaN</td>\n",
       "      <td>NaN</td>\n",
       "      <td>NaN</td>\n",
       "    </tr>\n",
       "    <tr>\n",
       "      <th>Servette FC</th>\n",
       "      <td>NaN</td>\n",
       "      <td>NaN</td>\n",
       "      <td>NaN</td>\n",
       "      <td>0.411765</td>\n",
       "      <td>0.166667</td>\n",
       "      <td>NaN</td>\n",
       "      <td>NaN</td>\n",
       "      <td>NaN</td>\n",
       "    </tr>\n",
       "  </tbody>\n",
       "</table>\n",
       "<p>296 rows × 8 columns</p>\n",
       "</div>"
      ],
      "text/plain": [
       "season                                            2008/2009  2009/2010  \\\n",
       "league                   winner_team                                     \n",
       "Belgium Jupiler League   Beerschot AC              0.323529   0.321429   \n",
       "                         Club Brugge KV            0.529412   0.607143   \n",
       "                         FCV Dender EH             0.264706        NaN   \n",
       "                         KAA Gent                  0.500000   0.500000   \n",
       "                         KAS Eupen                      NaN        NaN   \n",
       "...                                                     ...        ...   \n",
       "Switzerland Super League FC Zürich                 0.666667   0.333333   \n",
       "                         Grasshopper Club Zürich   0.333333   0.583333   \n",
       "                         Lugano                         NaN        NaN   \n",
       "                         Neuchâtel Xamax           0.277778   0.305556   \n",
       "                         Servette FC                    NaN        NaN   \n",
       "\n",
       "season                                            2010/2011  2011/2012  \\\n",
       "league                   winner_team                                     \n",
       "Belgium Jupiler League   Beerschot AC              0.166667   0.300000   \n",
       "                         Club Brugge KV            0.533333   0.633333   \n",
       "                         FCV Dender EH                  NaN        NaN   \n",
       "                         KAA Gent                  0.566667   0.566667   \n",
       "                         KAS Eupen                 0.166667        NaN   \n",
       "...                                                     ...        ...   \n",
       "Switzerland Super League FC Zürich                 0.583333   0.323529   \n",
       "                         Grasshopper Club Zürich   0.277778   0.205882   \n",
       "                         Lugano                         NaN        NaN   \n",
       "                         Neuchâtel Xamax           0.222222   0.388889   \n",
       "                         Servette FC                    NaN   0.411765   \n",
       "\n",
       "season                                            2012/2013  2013/2014  \\\n",
       "league                   winner_team                                     \n",
       "Belgium Jupiler League   Beerschot AC              0.200000        NaN   \n",
       "                         Club Brugge KV            0.500000        NaN   \n",
       "                         FCV Dender EH                  NaN        NaN   \n",
       "                         KAA Gent                  0.266667   0.500000   \n",
       "                         KAS Eupen                      NaN        NaN   \n",
       "...                                                     ...        ...   \n",
       "Switzerland Super League FC Zürich                 0.444444   0.388889   \n",
       "                         Grasshopper Club Zürich   0.555556   0.527778   \n",
       "                         Lugano                         NaN        NaN   \n",
       "                         Neuchâtel Xamax                NaN        NaN   \n",
       "                         Servette FC               0.166667        NaN   \n",
       "\n",
       "season                                            2014/2015  2015/2016  \n",
       "league                   winner_team                                    \n",
       "Belgium Jupiler League   Beerschot AC                   NaN        NaN  \n",
       "                         Club Brugge KV            0.566667   0.700000  \n",
       "                         FCV Dender EH                  NaN        NaN  \n",
       "                         KAA Gent                  0.533333   0.566667  \n",
       "                         KAS Eupen                      NaN        NaN  \n",
       "...                                                     ...        ...  \n",
       "Switzerland Super League FC Zürich                 0.416667   0.194444  \n",
       "                         Grasshopper Club Zürich   0.305556   0.416667  \n",
       "                         Lugano                         NaN   0.250000  \n",
       "                         Neuchâtel Xamax                NaN        NaN  \n",
       "                         Servette FC                    NaN        NaN  \n",
       "\n",
       "[296 rows x 8 columns]"
      ]
     },
     "execution_count": 32,
     "metadata": {},
     "output_type": "execute_result"
    }
   ],
   "source": [
    "wining_ratio_season=win_per_season.unstack(level=1)\n",
    "wining_ratio_season"
   ]
  },
  {
   "cell_type": "markdown",
   "metadata": {},
   "source": [
    "Now we will filtered the dataframe to select the highest ratio (max) per league for the 2015/2016 season. To accomplished that we will filtered the dataframe by the maximum value for each league on the 2015/2016 season."
   ]
  },
  {
   "cell_type": "code",
   "execution_count": 33,
   "metadata": {},
   "outputs": [
    {
     "data": {
      "text/plain": [
       "league                    winner_team        \n",
       "Belgium Jupiler League    Club Brugge KV         0.700000\n",
       "England Premier League    Leicester City         0.605263\n",
       "France Ligue 1            Paris Saint-Germain    0.789474\n",
       "Germany 1. Bundesliga     FC Bayern Munich       0.823529\n",
       "Italy Serie A             Juventus               0.763158\n",
       "Netherlands Eredivisie    PSV                    0.764706\n",
       "Poland Ekstraklasa        Legia Warszawa         0.566667\n",
       "                          Piast Gliwice          0.566667\n",
       "Portugal Liga ZON Sagres  SL Benfica             0.852941\n",
       "Scotland Premier League   Celtic                 0.684211\n",
       "Spain LIGA BBVA           FC Barcelona           0.763158\n",
       "Switzerland Super League  FC Basel               0.722222\n",
       "Name: 2015/2016, dtype: float64"
      ]
     },
     "execution_count": 33,
     "metadata": {},
     "output_type": "execute_result"
    }
   ],
   "source": [
    "Best_teams_2015_2016=(wining_ratio_season[wining_ratio_season['2015/2016'] == wining_ratio_season.groupby(level=[0])['2015/2016'].transform(max)])['2015/2016']\n",
    "Best_teams_2015_2016\n"
   ]
  },
  {
   "cell_type": "code",
   "execution_count": 34,
   "metadata": {},
   "outputs": [
    {
     "data": {
      "text/plain": [
       "('Portugal Liga ZON Sagres', 'SL Benfica')"
      ]
     },
     "execution_count": 34,
     "metadata": {},
     "output_type": "execute_result"
    }
   ],
   "source": [
    "Best_teams_2015_2016.idxmax()"
   ]
  },
  {
   "cell_type": "markdown",
   "metadata": {},
   "source": [
    "The table above shows the best team for each league in the 2015/2016 season. From those, Poland has two teams with the same ratio. From those, the team with the highest ratio is SL Benfica from Portugal."
   ]
  },
  {
   "cell_type": "markdown",
   "metadata": {},
   "source": [
    "<a id='conclusions'></a>\n",
    "## Conclusions"
   ]
  },
  {
   "cell_type": "markdown",
   "metadata": {},
   "source": [
    "Based on the data presented, teams playing at their home stadium have higher probability of winning, regardless of which league they belong. \n",
    "\n",
    "The accuracy of the Bet365 predictions was 53%, not significantly far from the odds of winning while playing on the home stadium (46%). \n",
    "\n",
    "In the 2015/2016, SL Benfica from Portugal Liga ZON Sagres had the highest winning ratio, the team won 85% of the played games.\n",
    "\n",
    "While those are interesting observation, it is important to keep in mind that **correlation does not imply causation**. There are other factors not considered in this study that could have influence the correlations."
   ]
  }
 ],
 "metadata": {
  "kernelspec": {
   "display_name": "Python 3",
   "language": "python",
   "name": "python3"
  },
  "language_info": {
   "codemirror_mode": {
    "name": "ipython",
    "version": 3
   },
   "file_extension": ".py",
   "mimetype": "text/x-python",
   "name": "python",
   "nbconvert_exporter": "python",
   "pygments_lexer": "ipython3",
   "version": "3.8.1"
  },
  "toc": {
   "base_numbering": 1,
   "nav_menu": {},
   "number_sections": false,
   "sideBar": true,
   "skip_h1_title": false,
   "title_cell": "Table of Contents",
   "title_sidebar": "Contents",
   "toc_cell": true,
   "toc_position": {},
   "toc_section_display": true,
   "toc_window_display": false
  }
 },
 "nbformat": 4,
 "nbformat_minor": 2
}
